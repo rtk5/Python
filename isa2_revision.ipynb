{
 "cells": [
  {
   "cell_type": "code",
   "execution_count": 1,
   "metadata": {},
   "outputs": [
    {
     "name": "stdout",
     "output_type": "stream",
     "text": [
      "A-Source  B-Auxiliary  C-Destination\n",
      "\n",
      "Move disk 1 from  A to  C\n",
      "Move disk 2 from  A to  B\n",
      "Move disk 1 from  C to  B\n",
      "Move disk 3 from  A to  C\n",
      "Move disk 1 from  B to  A\n",
      "Move disk 2 from  B to  C\n",
      "Move disk 1 from  A to  C\n"
     ]
    }
   ],
   "source": [
    "def TowerOfHanoi(n , src, aux, dest): #Recursive Function\n",
    "    if n==1: #terminating condition\n",
    "        print (\"Move disk 1 from \",src,\"to \",dest)\n",
    "        return\n",
    "    TowerOfHanoi(n-1, src, dest, aux)\n",
    "    print (\"Move disk\",n,\"from \",src,\"to \",dest)\n",
    "    TowerOfHanoi(n-1, aux, src, dest)\n",
    "      \n",
    "n=int(input(\"Enter number of disks\\n\"))\n",
    "print(\"A-Source  B-Auxiliary  C-Destination\\n\")\n",
    "TowerOfHanoi(n,'A','B','C')"
   ]
  },
  {
   "cell_type": "code",
   "execution_count": 2,
   "metadata": {},
   "outputs": [
    {
     "name": "stdout",
     "output_type": "stream",
     "text": [
      "0\n",
      "1\n",
      "1\n"
     ]
    }
   ],
   "source": [
    "#fibonacci\n",
    "def fib(n):    #Recursive Function\n",
    "  \tif n <= 1: #terminating condition\n",
    "    \t     return n\n",
    "  \telse:\n",
    "    \t     return(fib(n-1) + fib(n-2))\n",
    " \n",
    "n_terms=int(input(\"Enter the number of terms for Fibonacci Series\\n\"))\n",
    "\n",
    "for i in range(n_terms):\n",
    "           print(fib(i))"
   ]
  },
  {
   "cell_type": "code",
   "execution_count": 11,
   "metadata": {},
   "outputs": [
    {
     "name": "stdout",
     "output_type": "stream",
     "text": [
      "False\n"
     ]
    }
   ],
   "source": [
    "#mimic the in operator\n",
    "a = [12,44,33,66]\n",
    "n = int(input(\"enter the element to be searched\"))\n",
    "\n",
    "#iterative\n",
    "'''\n",
    "\n",
    "def find_me(a,n):\n",
    "    for i in a:\n",
    "        if i==n:\n",
    "            return True\n",
    "        else:\n",
    "            return False\n",
    "print(find_me(a,n))\n",
    "'''\n",
    "#recursive code\n",
    "\n",
    "def find_me(a,n):\n",
    "\tif not a:\t\t#empty data structure is False\n",
    "\t\t\t\t\t#Non-Empty data sturcture is True\n",
    "\t\t\t\t\t#Non-zero value is True\n",
    "\t\treturn False\n",
    "\telif a[0]==n:\n",
    "\t\treturn True\n",
    "\telse:\n",
    "\t\treturn find_me(a[1:],n)\t#write the diagram\n",
    "print(find_me(a,n))"
   ]
  },
  {
   "cell_type": "code",
   "execution_count": null,
   "metadata": {},
   "outputs": [],
   "source": []
  },
  {
   "cell_type": "code",
   "execution_count": null,
   "metadata": {},
   "outputs": [],
   "source": []
  },
  {
   "cell_type": "code",
   "execution_count": null,
   "metadata": {},
   "outputs": [],
   "source": []
  },
  {
   "cell_type": "code",
   "execution_count": null,
   "metadata": {},
   "outputs": [],
   "source": []
  },
  {
   "cell_type": "code",
   "execution_count": null,
   "metadata": {},
   "outputs": [],
   "source": []
  },
  {
   "cell_type": "code",
   "execution_count": null,
   "metadata": {},
   "outputs": [],
   "source": []
  },
  {
   "cell_type": "code",
   "execution_count": null,
   "metadata": {},
   "outputs": [],
   "source": []
  },
  {
   "cell_type": "code",
   "execution_count": null,
   "metadata": {},
   "outputs": [],
   "source": []
  },
  {
   "cell_type": "code",
   "execution_count": null,
   "metadata": {},
   "outputs": [],
   "source": []
  },
  {
   "cell_type": "code",
   "execution_count": null,
   "metadata": {},
   "outputs": [],
   "source": []
  }
 ],
 "metadata": {
  "kernelspec": {
   "display_name": "Python 3",
   "language": "python",
   "name": "python3"
  },
  "language_info": {
   "codemirror_mode": {
    "name": "ipython",
    "version": 3
   },
   "file_extension": ".py",
   "mimetype": "text/x-python",
   "name": "python",
   "nbconvert_exporter": "python",
   "pygments_lexer": "ipython3",
   "version": "3.9.2"
  }
 },
 "nbformat": 4,
 "nbformat_minor": 2
}
