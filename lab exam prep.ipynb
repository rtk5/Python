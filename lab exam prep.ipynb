{
 "cells": [
  {
   "cell_type": "code",
   "execution_count": 12,
   "metadata": {},
   "outputs": [
    {
     "name": "stdout",
     "output_type": "stream",
     "text": [
      "  *\n",
      " ***\n",
      "*****\n",
      " ***\n",
      "  *\n"
     ]
    }
   ],
   "source": [
    "#diamond\n",
    "rows=int(input(\"ENTER ROWS:\"))\n",
    "half_rows=(rows+1)//2\n",
    "for i in range(1,half_rows +1):\n",
    "    print((\" \" * (half_rows-i)) +( \"*\" *(2*i-1)))\n",
    "\n",
    "for i in range(half_rows-1,0,-1):\n",
    "    print((\" \" * (half_rows-i)) + (\"*\" *(2*i-1)))\n",
    "\n",
    "    "
   ]
  },
  {
   "cell_type": "code",
   "execution_count": 7,
   "metadata": {},
   "outputs": [
    {
     "name": "stdout",
     "output_type": "stream",
     "text": [
      "24\n"
     ]
    }
   ],
   "source": [
    "#factorial\n",
    "n = int(input())\n",
    "factorial = 1\n",
    "while n > 0:\n",
    "    factorial *= n\n",
    "    n -= 1\n",
    "print(factorial)"
   ]
  },
  {
   "cell_type": "code",
   "execution_count": 5,
   "metadata": {},
   "outputs": [
    {
     "name": "stdout",
     "output_type": "stream",
     "text": [
      "Factorial of 4 is 24\n"
     ]
    }
   ],
   "source": [
    "#Write a Python program to calculate the factorial of a given number\n",
    "num = int(input(\"Enter a number: \"))\n",
    "factorial = 1\n",
    "#keep in mind range() is always left inclusive and right exclusive\n",
    "for i in range(1, num + 1):\n",
    "    factorial *= i\n",
    "\n",
    "print(f\"Factorial of {num} is {factorial}\")\n"
   ]
  },
  {
   "cell_type": "code",
   "execution_count": 18,
   "metadata": {},
   "outputs": [
    {
     "name": "stdout",
     "output_type": "stream",
     "text": [
      "1\n",
      "22\n",
      "333\n",
      "4444\n",
      "55555\n"
     ]
    }
   ],
   "source": [
    "#pattern\n",
    "n = int(input())\n",
    "for i in range(1, n + 1):\n",
    "    for j in range(1, i + 1):\n",
    "        print(i, end=\"\")\n",
    "    print()"
   ]
  },
  {
   "cell_type": "code",
   "execution_count": 19,
   "metadata": {},
   "outputs": [
    {
     "name": "stdout",
     "output_type": "stream",
     "text": [
      "1 \n",
      "2 3 \n",
      "4 5 6 \n",
      "7 8 9 10 \n",
      "11 12 13 14 15 \n"
     ]
    }
   ],
   "source": [
    "#pattern\n",
    "rows = int(input())\n",
    "num = 1\n",
    "for i in range(1, rows + 1):\n",
    "    for j in range(1, i + 1):\n",
    "        print(num, end=\" \")\n",
    "        num += 1\n",
    "    print()"
   ]
  },
  {
   "cell_type": "code",
   "execution_count": 8,
   "metadata": {},
   "outputs": [
    {
     "name": "stdout",
     "output_type": "stream",
     "text": [
      "253\n"
     ]
    }
   ],
   "source": [
    "#lcm\n",
    "num1 = int(input())\n",
    "num2 = int(input())\n",
    "if num1 == num2:\n",
    "    print(num1)\n",
    "else:\n",
    "    max_num = max(num1, num2)\n",
    "    lcm = max_num\n",
    "    while True:\n",
    "        if lcm % num1 == 0 and lcm % num2 == 0:\n",
    "            break\n",
    "        else:\n",
    "            lcm += 1\n",
    "    print(lcm)"
   ]
  },
  {
   "cell_type": "code",
   "execution_count": 6,
   "metadata": {},
   "outputs": [
    {
     "name": "stdout",
     "output_type": "stream",
     "text": [
      "The number 9 is a prime number-- False\n"
     ]
    }
   ],
   "source": [
    "#prime number\n",
    "num = int(input())\n",
    "is_prime = True\n",
    "if num <= 1:\n",
    "    is_prime = False\n",
    "else:\n",
    "    for i in range(2, int(num ** 0.5) + 1):\n",
    "        if num % i == 0:\n",
    "            is_prime = False\n",
    "            break\n",
    "print(\"The number\",num,\"is a prime number--\",is_prime)"
   ]
  },
  {
   "cell_type": "code",
   "execution_count": 10,
   "metadata": {},
   "outputs": [
    {
     "name": "stdout",
     "output_type": "stream",
     "text": [
      "True\n"
     ]
    }
   ],
   "source": [
    "#armstrong number\n",
    "n = int(input())\n",
    "original = n\n",
    "cnt = 0\n",
    "result = 0\n",
    "while n > 0:\n",
    "    cnt += 1\n",
    "    n = n // 10\n",
    "n = original\n",
    "while n > 0:\n",
    "    digit = n % 10\n",
    "    result += digit ** cnt\n",
    "    n = n // 10\n",
    "if result == original:\n",
    "    print(True)\n",
    "else:\n",
    "    print(False)"
   ]
  },
  {
   "cell_type": "code",
   "execution_count": 13,
   "metadata": {},
   "outputs": [
    {
     "name": "stdout",
     "output_type": "stream",
     "text": [
      "True\n"
     ]
    }
   ],
   "source": [
    "#palindrome\n",
    "num=int(input())\n",
    "if num < 0:\n",
    "    print(False)\n",
    "else:\n",
    "    original_num = num\n",
    "    reversed_num = 0\n",
    "while num > 0:\n",
    "    digit = num % 10\n",
    "    reversed_num = reversed_num * 10 + digit\n",
    "    num = num // 10\n",
    "print( original_num == reversed_num)"
   ]
  },
  {
   "cell_type": "code",
   "execution_count": 16,
   "metadata": {},
   "outputs": [
    {
     "name": "stdout",
     "output_type": "stream",
     "text": [
      "1\n",
      "121\n",
      "12321\n",
      "1234321\n",
      "123454321\n",
      "12345654321\n"
     ]
    }
   ],
   "source": [
    "#pattern\n",
    "rows = int(input())\n",
    "for i in range(1, rows + 1):\n",
    "    for j in range(1, i + 1):\n",
    "        print(j, end=\"\")\n",
    "    for k in range(i - 1, 0, -1):\n",
    "        print(k, end=\"\")\n",
    "    print()"
   ]
  },
  {
   "cell_type": "code",
   "execution_count": 19,
   "metadata": {},
   "outputs": [
    {
     "name": "stdout",
     "output_type": "stream",
     "text": [
      "1,4,9,16,25,36,49,64,81,"
     ]
    }
   ],
   "source": [
    "#squares\n",
    "n = int(input())\n",
    "for i in range(1, n+1):\n",
    "    # Taking integer values closest or equal to square root, truncates decimal\n",
    "    sqt = int(i ** 0.5)\n",
    "    if sqt ** 2 == i:\n",
    "        print(i,end=\",\")"
   ]
  },
  {
   "cell_type": "code",
   "execution_count": 11,
   "metadata": {},
   "outputs": [
    {
     "name": "stdout",
     "output_type": "stream",
     "text": [
      "Entered date is 2/3/45\n",
      "Date is valid, and the next date is: 3 / 3 / 45\n"
     ]
    }
   ],
   "source": [
    "#date verification\n",
    "date = input(\"Enter the date in this format dd/mm/yyyy: \")\n",
    "print(\"Entered date is\",date)\n",
    "dd, mm, yy = date.split('/')\n",
    "dd = int(dd)\n",
    "mm = int(mm)\n",
    "yy = int(yy)\n",
    "\n",
    "if mm == 1 or mm == 3 or mm == 5 or mm == 7 or mm == 8 or mm == 10 or mm == 12:\n",
    "    max1 = 31\n",
    "elif mm == 4 or mm == 6 or mm == 9 or mm == 11:\n",
    "    max1 = 30\n",
    "elif mm==2 and (yy % 4 == 0 and yy % 100 != 0 or yy % 400 == 0):\n",
    "    max1 = 29\n",
    "elif mm==2:\n",
    "    max1 = 28\n",
    "if mm < 1 or mm > 12:\n",
    "    print(\"Date is invalid.\")\n",
    "elif dd < 1 or dd > max1:\n",
    "    print(\"Date is invalid.\")\n",
    "else:\n",
    "    if dd == max1 and mm != 12:\n",
    "        dd = 1\n",
    "        mm = mm + 1\n",
    "    elif dd == 31 and mm == 12:\n",
    "        dd = 1\n",
    "        mm = 1\n",
    "        yy = yy + 1\n",
    "    else:\n",
    "        dd = dd + 1\n",
    "\n",
    "    print(\"Date is valid, and the next date is: {}/{}/{}\".format(dd, mm, yy))\n",
    "    #print(\"Date is valid, and the next date is:\",dd,\"/\",mm,\"/\",yy)\n",
    "\n",
    "    \n",
    "\n",
    "        "
   ]
  },
  {
   "cell_type": "code",
   "execution_count": 9,
   "metadata": {},
   "outputs": [
    {
     "name": "stdout",
     "output_type": "stream",
     "text": [
      "Enter 3 coefficients:\n",
      "root1 = -1.0  +  1.8708286933869707 i and root2 = -1.0  -  1.8708286933869707 i\n",
      "Imaginary roots\n"
     ]
    }
   ],
   "source": [
    "#quadratic equation solver\n",
    "import math\n",
    "\n",
    "print(\"Enter 3 coefficients:\")\n",
    "a = float(input(\"Enter the 1st coefficient: \"))\n",
    "b = float(input(\"Enter the 2nd coefficient: \"))\n",
    "c = float(input(\"Enter the 3rd coefficient: \"))\n",
    "\n",
    "determinant = b * b - 4 * a * c\n",
    "\n",
    "# Condition for real and different roots\n",
    "if determinant > 0:\n",
    "    root1 = (-b + math.sqrt(determinant)) / (2 * a)\n",
    "    root2 = (-b - math.sqrt(determinant)) / (2 * a)\n",
    "    print(\"root1 =\", root1, \" and root2 =\", root2)\n",
    "    print(\"Real and distinct roots\")\n",
    "\n",
    "# Condition for real and equal roots\n",
    "elif determinant == 0:\n",
    "    root1 = root2 = -b / (2 * a)\n",
    "    print(\"root1 =\", root1, \" and root2 =\", root2)\n",
    "    print(\"Real and equal roots\")\n",
    "# If roots are not real\n",
    "else:\n",
    "    realPart = -b / (2 * a)\n",
    "    imaginaryPart = math.sqrt(-determinant) / (2 * a)\n",
    "    print(\"root1 =\", realPart, \" + \", imaginaryPart, \"i and root2 =\", realPart, \" - \", imaginaryPart, \"i\")\n",
    "    print(\"Imaginary roots\")\n"
   ]
  },
  {
   "cell_type": "code",
   "execution_count": 2,
   "metadata": {},
   "outputs": [
    {
     "name": "stdout",
     "output_type": "stream",
     "text": [
      "0 1 1 2 3 5 8 13 21 34 55 89 \n"
     ]
    }
   ],
   "source": [
    "#fibonacci sequence\n",
    "n = int(input(\"Enter the number of terms: \"))\n",
    "# Initializing the first two terms of the Fibonacci sequence\n",
    "a, b = 0, 1\n",
    "\n",
    "# Print the first two terms\n",
    "print(a, end=' ')\n",
    "print(b, end=' ')\n",
    "\n",
    "# Generate and print the next 'n-2' terms\n",
    "for _ in range(n - 2):\n",
    "    # Calculate the next term\n",
    "    next_term = a + b\n",
    "    \n",
    "    # Print the next term\n",
    "    print(next_term, end=' ')\n",
    "    \n",
    "    # Update 'a' and 'b' for the next iteration\n",
    "    a, b = b, next_term\n",
    "print()  \n"
   ]
  },
  {
   "cell_type": "code",
   "execution_count": 13,
   "metadata": {},
   "outputs": [
    {
     "name": "stdout",
     "output_type": "stream",
     "text": [
      "Generated number 79 is not divisible by both 7 and 9. Trying again...\n",
      "Generated number 98 is not divisible by both 7 and 9. Trying again...\n",
      "Generated number 11 is not divisible by both 7 and 9. Trying again...\n",
      "Generated number 91 is not divisible by both 7 and 9. Trying again...\n",
      "Generated number 97 is not divisible by both 7 and 9. Trying again...\n",
      "Generated number 84 is not divisible by both 7 and 9. Trying again...\n",
      "Generated number 40 is not divisible by both 7 and 9. Trying again...\n",
      "Generated number 33 is not divisible by both 7 and 9. Trying again...\n",
      "Generated number 2 is not divisible by both 7 and 9. Trying again...\n",
      "Generated number 78 is not divisible by both 7 and 9. Trying again...\n",
      "Generated number 95 is not divisible by both 7 and 9. Trying again...\n",
      "Generated number 16 is not divisible by both 7 and 9. Trying again...\n",
      "Generated number 60 is not divisible by both 7 and 9. Trying again...\n",
      "Generated number 25 is not divisible by both 7 and 9. Trying again...\n",
      "Generated number 5 is not divisible by both 7 and 9. Trying again...\n",
      "Generated number 79 is not divisible by both 7 and 9. Trying again...\n",
      "Generated number 9 is not divisible by both 7 and 9. Trying again...\n",
      "Generated number 52 is not divisible by both 7 and 9. Trying again...\n",
      "Generated number 92 is not divisible by both 7 and 9. Trying again...\n",
      "Generated number 86 is not divisible by both 7 and 9. Trying again...\n",
      "Generated number 83 is not divisible by both 7 and 9. Trying again...\n",
      "Generated number 6 is not divisible by both 7 and 9. Trying again...\n",
      "Generated number 86 is not divisible by both 7 and 9. Trying again...\n",
      "Generated number 98 is not divisible by both 7 and 9. Trying again...\n",
      "Generated number 83 is not divisible by both 7 and 9. Trying again...\n",
      "Generated number 4 is not divisible by both 7 and 9. Trying again...\n",
      "Generated number 93 is not divisible by both 7 and 9. Trying again...\n",
      "Generated number 84 is not divisible by both 7 and 9. Trying again...\n",
      "Generated number 84 is not divisible by both 7 and 9. Trying again...\n",
      "Generated number 81 is not divisible by both 7 and 9. Trying again...\n",
      "Generated number 58 is not divisible by both 7 and 9. Trying again...\n",
      "Generated number 53 is not divisible by both 7 and 9. Trying again...\n",
      "Generated number 44 is not divisible by both 7 and 9. Trying again...\n",
      "Generated number 37 is not divisible by both 7 and 9. Trying again...\n",
      "Generated number 50 is not divisible by both 7 and 9. Trying again...\n",
      "Generated number 56 is not divisible by both 7 and 9. Trying again...\n",
      "Generated number 73 is not divisible by both 7 and 9. Trying again...\n",
      "Generated number 74 is not divisible by both 7 and 9. Trying again...\n",
      "Generated number 10 is not divisible by both 7 and 9. Trying again...\n",
      "Generated number 55 is not divisible by both 7 and 9. Trying again...\n",
      "Generated number 43 is not divisible by both 7 and 9. Trying again...\n",
      "Generated number 97 is not divisible by both 7 and 9. Trying again...\n",
      "Generated number 21 is not divisible by both 7 and 9. Trying again...\n",
      "Generated number 59 is not divisible by both 7 and 9. Trying again...\n",
      "Generated number 37 is not divisible by both 7 and 9. Trying again...\n",
      "Generated number 54 is not divisible by both 7 and 9. Trying again...\n",
      "Generated number 12 is not divisible by both 7 and 9. Trying again...\n",
      "Generated number 98 is not divisible by both 7 and 9. Trying again...\n",
      "Generated number 45 is not divisible by both 7 and 9. Trying again...\n",
      "Found a number (63) that is divisible by both 7 and 9.\n",
      "Loop exited.\n"
     ]
    }
   ],
   "source": [
    "#Write a python program using while loop and break statement to generate random numbers between 1 and 100 until it finds one that is\n",
    "# divisible by both 7 and 9.\n",
    "import random\n",
    "while True:\n",
    "    number = random.randint(1, 100)\n",
    "    if number % 7 == 0 and number % 9 == 0:\n",
    "        print(f\"Found a number ({number}) that is divisible by both 7 and 9.\")\n",
    "        break\n",
    "    else:\n",
    "        print(f\"Generated number {number} is not divisible by both 7 and 9. Trying again...\")\n",
    "print(\"Loop exited.\")\n"
   ]
  },
  {
   "cell_type": "code",
   "execution_count": 7,
   "metadata": {},
   "outputs": [
    {
     "name": "stdout",
     "output_type": "stream",
     "text": [
      "Prime numbers between 10 and 50 are:\n",
      "11,13,17,19,23,29,31,37,41,43,47,"
     ]
    }
   ],
   "source": [
    "#Write a Python program to find and print all prime numbers between 10 and 50.\n",
    "# Define a range for prime number search (10 to 50)\n",
    "start = 10\n",
    "end = 50\n",
    "print(\"Prime numbers between\", start, \"and\", end, \"are:\")\n",
    "# Loop through each number in the range\n",
    "for num in range(start, end + 1):\n",
    "    if num > 1:\n",
    "        # Check for factors\n",
    "        is_prime = True\n",
    "        for i in range(2, int(num ** 0.5) + 1):\n",
    "            if num % i == 0:\n",
    "                is_prime = False\n",
    "                break\n",
    "        if is_prime:\n",
    "            print(num,end=\",\")"
   ]
  },
  {
   "cell_type": "code",
   "execution_count": 11,
   "metadata": {},
   "outputs": [
    {
     "name": "stdout",
     "output_type": "stream",
     "text": [
      "[[1, 3, 6], [8, 4, 5], [7, 9, 5]]\n",
      "10\n",
      "17\n"
     ]
    }
   ],
   "source": [
    "\n",
    "#matrix diagonal addition# Read the size of the square matrix 'n'\n",
    "n = int(input())\n",
    "# Initialize a 2D list to store the matrix elements\n",
    "matrix = []\n",
    "# Read 'n' lines of input and create the matrix\n",
    "for i in range(n):\n",
    "    row = []\n",
    "    for j in range(n):\n",
    "        a = int(input())\n",
    "        row.append(a)\n",
    "    matrix.append(row)\n",
    "# Initialize variables to store the sums of the main and secondary diagonals\n",
    "main_diagonal_sum = 0\n",
    "secondary_diagonal_sum = 0\n",
    "# Calculate the sum of the elements along the main diagonal\n",
    "for i in range(n):\n",
    "    main_diagonal_sum += matrix[i][i]\n",
    "# Calculate the sum of the elements along the secondary diagonal\n",
    "for i in range(n):\n",
    "    secondary_diagonal_sum += matrix[i][n - 1 - i]\n",
    "    \n",
    "print(matrix)\n",
    "# Print the sums of the main and secondary diagonals\n",
    "print(main_diagonal_sum)\n",
    "print(secondary_diagonal_sum)"
   ]
  },
  {
   "cell_type": "code",
   "execution_count": 15,
   "metadata": {},
   "outputs": [
    {
     "name": "stdout",
     "output_type": "stream",
     "text": [
      "[[3, 4, 5], [6, 7, 8], [9, 8, 7]]\n",
      "9\n",
      "2\n",
      "0\n"
     ]
    }
   ],
   "source": [
    "#Problem Statement: You are given a 2D list (matrix) representing a grid of integers.\n",
    "#Write a Python program to find and print the maximum value in the entire matrix\n",
    "#along with its row and column indices.\n",
    "# Read the total number of rows 'rows' and columns 'cols'\n",
    "rows = int(input())\n",
    "columns = int(input())\n",
    "matrix = []\n",
    "for i in range(rows):\n",
    "    row = []\n",
    "    for j in range(rows):\n",
    "        a = int(input())\n",
    "        row.append(a)\n",
    "    matrix.append(row)\n",
    "# Initialize variables to store the maximum value and its indices\n",
    "max_value = None\n",
    "max_row = -1\n",
    "max_col = -1\n",
    "# Iterate through the matrix to find the maximum value and its indices\n",
    "for i in range(rows):\n",
    "    for j in range(rows):\n",
    "        if max_value is None or matrix[i][j] > max_value:\n",
    "            max_value = matrix[i][j]\n",
    "            max_row = i\n",
    "            max_col = j\n",
    "# Print the maximum value and its indices\n",
    "print(matrix)\n",
    "print(max_value)\n",
    "print(max_row)\n",
    "print(max_col)"
   ]
  },
  {
   "cell_type": "code",
   "execution_count": 17,
   "metadata": {},
   "outputs": [
    {
     "name": "stdout",
     "output_type": "stream",
     "text": [
      "3.14\n"
     ]
    }
   ],
   "source": [
    "a=22/7\n",
    "print(format(a,\".2f\"))"
   ]
  },
  {
   "cell_type": "code",
   "execution_count": 20,
   "metadata": {},
   "outputs": [
    {
     "name": "stdout",
     "output_type": "stream",
     "text": [
      "[4, 3, 2, 4, 5]\n",
      "2\n"
     ]
    }
   ],
   "source": [
    "#Problem Statement: Write a program that takes a list of integers and returns the\n",
    "#count of the most frequently occurring element. Assume that only one element has\n",
    "#the maximum frequency.\n",
    "n=int(input())\n",
    "l=[]\n",
    "for i in range(n):\n",
    "    a=int(input())\n",
    "    l.append(a)\n",
    "print(l)\n",
    "if n==0 or n==1:\n",
    "     print(n)\n",
    "else:\n",
    "    max_count = 0\n",
    "    most_frequent_element = None\n",
    "\n",
    "    for item in l:\n",
    "        count = l.count(item)\n",
    "        if count > max_count:\n",
    "            max_count = count\n",
    "            most_frequent_element = item\n",
    "print(max_count)"
   ]
  },
  {
   "cell_type": "code",
   "execution_count": null,
   "metadata": {},
   "outputs": [],
   "source": []
  },
  {
   "cell_type": "code",
   "execution_count": null,
   "metadata": {},
   "outputs": [],
   "source": []
  },
  {
   "cell_type": "code",
   "execution_count": null,
   "metadata": {},
   "outputs": [],
   "source": []
  },
  {
   "cell_type": "code",
   "execution_count": null,
   "metadata": {},
   "outputs": [],
   "source": []
  },
  {
   "cell_type": "code",
   "execution_count": null,
   "metadata": {},
   "outputs": [],
   "source": []
  },
  {
   "cell_type": "code",
   "execution_count": null,
   "metadata": {},
   "outputs": [],
   "source": []
  },
  {
   "cell_type": "code",
   "execution_count": null,
   "metadata": {},
   "outputs": [],
   "source": []
  },
  {
   "cell_type": "code",
   "execution_count": null,
   "metadata": {},
   "outputs": [],
   "source": []
  },
  {
   "cell_type": "code",
   "execution_count": null,
   "metadata": {},
   "outputs": [],
   "source": []
  },
  {
   "cell_type": "code",
   "execution_count": null,
   "metadata": {},
   "outputs": [],
   "source": []
  },
  {
   "cell_type": "code",
   "execution_count": null,
   "metadata": {},
   "outputs": [],
   "source": []
  },
  {
   "cell_type": "code",
   "execution_count": null,
   "metadata": {},
   "outputs": [],
   "source": []
  },
  {
   "cell_type": "code",
   "execution_count": null,
   "metadata": {},
   "outputs": [],
   "source": []
  },
  {
   "cell_type": "code",
   "execution_count": null,
   "metadata": {},
   "outputs": [],
   "source": []
  },
  {
   "cell_type": "code",
   "execution_count": null,
   "metadata": {},
   "outputs": [],
   "source": []
  },
  {
   "cell_type": "code",
   "execution_count": null,
   "metadata": {},
   "outputs": [],
   "source": []
  },
  {
   "cell_type": "code",
   "execution_count": null,
   "metadata": {},
   "outputs": [],
   "source": []
  },
  {
   "cell_type": "code",
   "execution_count": null,
   "metadata": {},
   "outputs": [],
   "source": []
  },
  {
   "cell_type": "code",
   "execution_count": null,
   "metadata": {},
   "outputs": [],
   "source": []
  },
  {
   "cell_type": "code",
   "execution_count": null,
   "metadata": {},
   "outputs": [],
   "source": []
  },
  {
   "cell_type": "code",
   "execution_count": null,
   "metadata": {},
   "outputs": [],
   "source": []
  },
  {
   "cell_type": "code",
   "execution_count": null,
   "metadata": {},
   "outputs": [],
   "source": []
  },
  {
   "cell_type": "code",
   "execution_count": null,
   "metadata": {},
   "outputs": [],
   "source": []
  },
  {
   "cell_type": "code",
   "execution_count": null,
   "metadata": {},
   "outputs": [],
   "source": []
  },
  {
   "cell_type": "code",
   "execution_count": null,
   "metadata": {},
   "outputs": [],
   "source": []
  },
  {
   "cell_type": "code",
   "execution_count": null,
   "metadata": {},
   "outputs": [],
   "source": []
  },
  {
   "cell_type": "code",
   "execution_count": null,
   "metadata": {},
   "outputs": [],
   "source": []
  },
  {
   "cell_type": "code",
   "execution_count": null,
   "metadata": {},
   "outputs": [],
   "source": []
  },
  {
   "cell_type": "code",
   "execution_count": null,
   "metadata": {},
   "outputs": [],
   "source": []
  }
 ],
 "metadata": {
  "kernelspec": {
   "display_name": "Python 3",
   "language": "python",
   "name": "python3"
  },
  "language_info": {
   "codemirror_mode": {
    "name": "ipython",
    "version": 3
   },
   "file_extension": ".py",
   "mimetype": "text/x-python",
   "name": "python",
   "nbconvert_exporter": "python",
   "pygments_lexer": "ipython3",
   "version": "3.9.2"
  }
 },
 "nbformat": 4,
 "nbformat_minor": 2
}
