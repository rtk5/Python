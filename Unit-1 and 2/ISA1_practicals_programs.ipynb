{
 "cells": [
  {
   "cell_type": "code",
   "execution_count": 21,
   "metadata": {},
   "outputs": [
    {
     "name": "stdout",
     "output_type": "stream",
     "text": [
      "1 \n",
      "2 3 \n",
      "4 5 6 \n",
      "7 8 9 10 \n",
      "11 12 13 14 15 \n"
     ]
    }
   ],
   "source": [
    "\"\"\"Write a program that takes the number of rows 'n' as input from the user and prints a number\n",
    "pattern in increasing order as shown below.If n is 5, the expected pattern is,\n",
    "1\n",
    "2 3\n",
    "4 5 6\n",
    "7 8 9 10\n",
    "11 12 13 14 15\"\"\"\n",
    "n = int(input('Enter the number of rows: '))\n",
    "num = 1\n",
    "for i in range(1,n+1):\n",
    "    for j in range(i):\n",
    "        print(num, end=\" \")\n",
    "        num = num + 1\n",
    "    print()\n"
   ]
  },
  {
   "cell_type": "code",
   "execution_count": 48,
   "metadata": {},
   "outputs": [
    {
     "name": "stdout",
     "output_type": "stream",
     "text": [
      "    *    \n",
      "  * * *  \n",
      "* * * * *\n",
      "  * * *  \n",
      "    *    \n"
     ]
    }
   ],
   "source": [
    "\"\"\"Write a program that takes the number of rows 'n' as input from the user and prints a diamond\n",
    "pattern using asterisks (*) as shown in the sample example. Note that input 'n' will be an odd\n",
    "integer. The pattern should have a diamond shape with 'n' rows in the middle.If n is 5, the\n",
    "expected pattern is,\n",
    "   *\n",
    "  ***\n",
    " *****\n",
    "  ***\n",
    "   *\n",
    "\"\"\"\n",
    "n = int(input('Enter an odd number: '))\n",
    "l = []\n",
    "for i in range(n):\n",
    "    l.append(\" \")\n",
    "m = n//2\n",
    "l[m] = \"*\"\n",
    "c = 0\n",
    "for i in range(n):\n",
    "    while m+c<=n and m-c>=0:\n",
    "        l[m+c] = \"*\"\n",
    "        l[m-c] = \"*\"\n",
    "        print(*l)\n",
    "        c = c + 1\n",
    "c = 0\n",
    "for i in range(n//2):\n",
    "        l[0+c] = \" \"\n",
    "        l[(n-1)-c] = \" \"\n",
    "        print(*l)\n",
    "        c = c + 1\n"
   ]
  },
  {
   "cell_type": "code",
   "execution_count": 56,
   "metadata": {},
   "outputs": [
    {
     "name": "stdout",
     "output_type": "stream",
     "text": [
      "[5, 10, 15, 20, 25, 30, 35, 40, 45, 50]\n",
      "[10, 20, 30, 40, 50]\n",
      "[10, 20, 30, 40, 50]\n",
      "10\n"
     ]
    }
   ],
   "source": [
    "\"\"\"Write a program that calculates and prints the Least Common Multiple (LCM) of two\n",
    "positive integers entered by the user.\"\"\"\n",
    "n = int(input('Enter the first number: '))\n",
    "m = int(input('Enter the second number: '))\n",
    "nm = []\n",
    "mm = []\n",
    "LCM = []\n",
    "for i in range(1,m+1):\n",
    "    nm.append(n*i)\n",
    "for i in range(1,n+1):\n",
    "    mm.append(m*i)\n",
    "for i in range(len(nm)):\n",
    "    ele1 = nm[i]\n",
    "    for j in range(len(mm)):\n",
    "        ele2 = mm[j]\n",
    "        if ele1 == ele2:\n",
    "            LCM.append(ele2)\n",
    "print(nm)\n",
    "print(mm)\n",
    "print(LCM)\n",
    "print(min(LCM))"
   ]
  },
  {
   "cell_type": "code",
   "execution_count": 96,
   "metadata": {},
   "outputs": [
    {
     "name": "stdout",
     "output_type": "stream",
     "text": [
      "153 153\n",
      "Given number is an armstrong number.\n"
     ]
    }
   ],
   "source": [
    "\"\"\"Write a program that prompts the user to input a positive integer, checks if it's a valid positive\n",
    "integer, and then determines whether it's an Armstrong number.If the user enters a negative\n",
    "number or a non-integer value, provide an appropriate message. The program should display\n",
    "whether or not the input is an Armstrong number.An Armstrong number is one where the sum\n",
    "of its individual digits, each raised to the power of the number of digits in the original\n",
    "number, equals the original number (e.g., 153 is an Armstrong number because 1^3 + 5^3 +\n",
    "3^3 = 153).\"\"\"\n",
    "n = input('Enter the number: ')\n",
    "k = int(n)\n",
    "l = []\n",
    "for i in range(len(n)):\n",
    "    n = int(n)\n",
    "    m = n % 10\n",
    "    l.append(m)\n",
    "    n = n // 10\n",
    "sum = 0\n",
    "lth = len(l)\n",
    "for i in range(len(l)):\n",
    "    sum = sum + (l[i]**lth)\n",
    "if k == sum:\n",
    "    print('Given number is an armstrong number.')\n",
    "else: \n",
    "    print(\"Given number isn't an armstrong number.\")\n"
   ]
  },
  {
   "cell_type": "code",
   "execution_count": 86,
   "metadata": {},
   "outputs": [
    {
     "name": "stdout",
     "output_type": "stream",
     "text": [
      "5 5\n"
     ]
    }
   ],
   "source": [
    "\"\"\"Write a program that accepts a square 2D list (nested list/like matrix) representing a grid of\n",
    "integers from the user. Calculate and print the sum of the elements along both the main\n",
    "diagonal (top-left to bottom-right) and the secondary diagonal (top-right to bottom-left) of the\n",
    "2D list(nested list/ like matrix).\"\"\"\n",
    "listno = input('Enter the order of the matrix: ')\n",
    "l = []\n",
    "for i in range(listno):\n",
    "    n = input('Enter the numbers of the row: ').split()\n",
    "for i in range(len(n)):\n",
    "    n[i] = int(n[i])\n",
    "    m[i] = int(m[i])\n",
    "    l1.append(n[i])\n",
    "    l2.append(m[i])\n",
    "l.extend([l1,l2])\n",
    "mds = l[0][0] + l[1][1]\n",
    "sds = l[0][1] + l[1][0] \n",
    "print(mds, sds)"
   ]
  },
  {
   "cell_type": "code",
   "execution_count": 92,
   "metadata": {},
   "outputs": [
    {
     "ename": "ValueError",
     "evalue": "4 is not in list",
     "output_type": "error",
     "traceback": [
      "\u001b[1;31m---------------------------------------------------------------------------\u001b[0m",
      "\u001b[1;31mValueError\u001b[0m                                Traceback (most recent call last)",
      "\u001b[1;32mc:\\Users\\rithv\\WORK\\PES\\Python\\ISA1_practicals_programs.ipynb Cell 6\u001b[0m line \u001b[0;36m2\n\u001b[0;32m     <a href='vscode-notebook-cell:/c%3A/Users/rithv/WORK/PES/Python/ISA1_practicals_programs.ipynb#W5sZmlsZQ%3D%3D?line=17'>18</a>\u001b[0m     \u001b[39mprint\u001b[39m(a, l\u001b[39m.\u001b[39mindex(a))\n\u001b[0;32m     <a href='vscode-notebook-cell:/c%3A/Users/rithv/WORK/PES/Python/ISA1_practicals_programs.ipynb#W5sZmlsZQ%3D%3D?line=19'>20</a>\u001b[0m \u001b[39melse\u001b[39;00m:\n\u001b[1;32m---> <a href='vscode-notebook-cell:/c%3A/Users/rithv/WORK/PES/Python/ISA1_practicals_programs.ipynb#W5sZmlsZQ%3D%3D?line=20'>21</a>\u001b[0m     \u001b[39mprint\u001b[39m(b, l\u001b[39m.\u001b[39;49mindex(b))\n",
      "\u001b[1;31mValueError\u001b[0m: 4 is not in list"
     ]
    }
   ],
   "source": [
    "\"\"\"Write a program that accepts a square 2D list (nested list/like matrix) representing a grid of\n",
    "integers from the user. Find and print the maximum value in the entire 2D list(nested list/ like\n",
    "matrix) along with its row and column indices.\"\"\"\n",
    "n = input('Enter the numbers of the first row: ').split()\n",
    "m = input('Enter the numbers of the second row: ').split()\n",
    "l1 = []\n",
    "l2 = []\n",
    "l = []\n",
    "for i in range(len(n)):\n",
    "    n[i] = int(n[i])\n",
    "    m[i] = int(m[i])\n",
    "    l1.append(n[i])\n",
    "    l2.append(m[i])\n",
    "l.extend([l1,l2])\n",
    "a = max(l1)\n",
    "b = max(l2)\n",
    "if a>b:\n",
    "    print(a, l1.index(a))\n",
    "\n",
    "else:\n",
    "    print(b, l2.index(b))"
   ]
  },
  {
   "cell_type": "code",
   "execution_count": 98,
   "metadata": {},
   "outputs": [
    {
     "ename": "ValueError",
     "evalue": "1 is not in list",
     "output_type": "error",
     "traceback": [
      "\u001b[1;31m---------------------------------------------------------------------------\u001b[0m",
      "\u001b[1;31mValueError\u001b[0m                                Traceback (most recent call last)",
      "\u001b[1;32mc:\\Users\\rithv\\WORK\\PES\\Python\\ISA1_practicals_programs.ipynb Cell 7\u001b[0m line \u001b[0;36m1\n\u001b[0;32m     <a href='vscode-notebook-cell:/c%3A/Users/rithv/WORK/PES/Python/ISA1_practicals_programs.ipynb#W6sZmlsZQ%3D%3D?line=15'>16</a>\u001b[0m b \u001b[39m=\u001b[39m \u001b[39mmin\u001b[39m(l2)\n\u001b[0;32m     <a href='vscode-notebook-cell:/c%3A/Users/rithv/WORK/PES/Python/ISA1_practicals_programs.ipynb#W6sZmlsZQ%3D%3D?line=16'>17</a>\u001b[0m \u001b[39mif\u001b[39;00m a\u001b[39m<\u001b[39mb:\n\u001b[1;32m---> <a href='vscode-notebook-cell:/c%3A/Users/rithv/WORK/PES/Python/ISA1_practicals_programs.ipynb#W6sZmlsZQ%3D%3D?line=17'>18</a>\u001b[0m     \u001b[39mprint\u001b[39m(a, l\u001b[39m.\u001b[39;49mindex(a))\n\u001b[0;32m     <a href='vscode-notebook-cell:/c%3A/Users/rithv/WORK/PES/Python/ISA1_practicals_programs.ipynb#W6sZmlsZQ%3D%3D?line=19'>20</a>\u001b[0m \u001b[39melse\u001b[39;00m:\n\u001b[0;32m     <a href='vscode-notebook-cell:/c%3A/Users/rithv/WORK/PES/Python/ISA1_practicals_programs.ipynb#W6sZmlsZQ%3D%3D?line=20'>21</a>\u001b[0m     \u001b[39mprint\u001b[39m(b, l\u001b[39m.\u001b[39mindex(b))\n",
      "\u001b[1;31mValueError\u001b[0m: 1 is not in list"
     ]
    }
   ],
   "source": [
    "\"\"\"Write a program that accepts a square 2D list (nested list/like matrix) representing a grid of\n",
    "integers from the user. Find and print the minimum value in the entire matrix along with its\n",
    "row and column indices.\"\"\"\n",
    "n = input('Enter the numbers of the first row: ').split()\n",
    "m = input('Enter the numbers of the second row: ').split()\n",
    "l1 = []\n",
    "l2 = []\n",
    "l = []\n",
    "for i in range(len(n)):\n",
    "    n[i] = int(n[i])\n",
    "    m[i] = int(m[i])\n",
    "    l1.append(n[i])\n",
    "    l2.append(m[i])\n",
    "l.extend([l1,l2])\n",
    "a = min(l1)\n",
    "b = min(l2)\n",
    "if a<b:\n",
    "    print(a, l.index(a))\n",
    "\n",
    "else:\n",
    "    print(b, l.index(b))"
   ]
  },
  {
   "cell_type": "code",
   "execution_count": 55,
   "metadata": {},
   "outputs": [
    {
     "name": "stdout",
     "output_type": "stream",
     "text": [
      "[30, 40, 50]\n"
     ]
    }
   ],
   "source": [
    "\"\"\"Write a program that takes an integer 'n' as the number of elements and an integer 'k' as the\n",
    "desired occurrence frequency from the user. The program should remove all elements that\n",
    "occur exactly k times from the list and print the modified list. Both 'n' and 'k' are positive\n",
    "integers and k <= n.\n",
    "Eg: n=7, input_lst=[10,20,20,30,40,10,50], k=2 Output=[30,40,50]\"\"\"\n",
    "n = int(input('Enter the number of elements: '))\n",
    "l = input('Enter the list: ').split()\n",
    "k = int(input('Enter the frequency of element: '))\n",
    "lst = []\n",
    "r = []\n",
    "for i in range(n):\n",
    "    l[i] = int(l[i])\n",
    "    lst.append(l[i])\n",
    "for i in range(len(lst)):\n",
    "    if lst.count(lst[i]) != k:\n",
    "        r.append(lst[i])\n",
    "print(r)\n"
   ]
  },
  {
   "cell_type": "code",
   "execution_count": 56,
   "metadata": {},
   "outputs": [
    {
     "name": "stdout",
     "output_type": "stream",
     "text": [
      "[10, 20, 20, 10]\n"
     ]
    }
   ],
   "source": [
    "\"\"\"Write a program that takes an integer 'n' as the number of elements and an integer 'k' as the\n",
    "desired occurrence frequency from the user. The program should remove all elements that do\n",
    "not occur exactly 'k' times within the list and print the resulting modified list. Both 'n' and 'k'\n",
    "are positive integers and k <= n.\n",
    "Eg: n=7, input_lst=[10,20,20,30,40,10,50], k=2 Output=[20,20,10,10]\"\"\"\n",
    "n = int(input('Enter the number of elements: '))\n",
    "l = input('Enter the list: ').split()\n",
    "k = int(input('Enter the frequency of element: '))\n",
    "lst = []\n",
    "r = []\n",
    "for i in range(n):\n",
    "    l[i] = int(l[i])\n",
    "    lst.append(l[i])\n",
    "for i in range(len(lst)):\n",
    "    if lst.count(lst[i]) == k:\n",
    "        r.append(lst[i])\n",
    "print(r)"
   ]
  },
  {
   "cell_type": "code",
   "execution_count": null,
   "metadata": {},
   "outputs": [],
   "source": [
    "\"\"\"Write a program that takes a string 'test_str' and a substring 'sub_str' as inputs from the user.\n",
    "Find the sub_str that occurs the most in a list of words formed by splitting test_str into words.\n",
    "For Example, if the test_str string is \"This is a test string testtest\" and sub_str is \"test\". Then\n",
    "the output would be \"testtest\" as the sub_str has been repeated twice.\"\"\"\n",
    "test_str = str(input('Enter the test_string: ')).split()\n",
    "sub_str = str(input('Enter the sub_string: '))\n",
    "for i in range(len(test_str)):\n",
    "    if "
   ]
  },
  {
   "cell_type": "code",
   "execution_count": 60,
   "metadata": {},
   "outputs": [
    {
     "name": "stdout",
     "output_type": "stream",
     "text": [
      "['u', 'r', 'a', 'noob']\n",
      "<class 'list'>\n"
     ]
    }
   ],
   "source": [
    "\"\"\"Write a Python program that takes two strings as inputs from the user and checks if one string\n",
    "is a rotation of another string. For example, \"waterbottle\" is a rotation of \"erbottlewat\". Your\n",
    "program should print 'Y' if one string is a rotation of the other, and 'N' if it is not.\"\"\"\n",
    "s = str(input('Enter the string: '))\n"
   ]
  },
  {
   "cell_type": "code",
   "execution_count": 63,
   "metadata": {},
   "outputs": [
    {
     "name": "stdout",
     "output_type": "stream",
     "text": [
      "Rithvik Ritwik\n"
     ]
    }
   ],
   "source": [
    "\"\"\"Write a Python program that takes a string as input, finds and prints all the unique substrings\n",
    "of the given string in a list in lexicographical order.\"\"\"\n",
    "s = str(input('Enter the string: ')).split()\n",
    "s.sort()\n",
    "print(*s)"
   ]
  },
  {
   "cell_type": "code",
   "execution_count": null,
   "metadata": {},
   "outputs": [],
   "source": [
    "\"\"\"Write a Python program that takes two strings as inputs from the user and checks if one string\n",
    "is an anagram of the other string.Your program should print 'Y' if one string is an anagram of\n",
    "the other, and 'N' if it is not. An anagram is a word or phrase formed by rearranging the letters\n",
    "of another word or phrase, using all the original letters exactly once. For instance, if the first\n",
    "string is \"listen\" and the second string is \"silent\", the program should print 'Y'. Another\n",
    "example for anagram is \"race\" and \"care\" and thus the program should print 'Y' for this input\n",
    "as well.\"\"\""
   ]
  },
  {
   "cell_type": "code",
   "execution_count": null,
   "metadata": {},
   "outputs": [],
   "source": [
    "\"\"\"Write a Python program that calculates the sum of numerical values assigned to each letter in\n",
    "a given string, where 'a' is assigned the value 1, 'b' is assigned the value 2, and 'z' is assigned\n",
    "the value 26. For instance, if the input string is \"hello,\" the program should calculate the sum\n",
    "\n",
    "as follows: 'h' (8) + 'e' (5) + 'l' (12) + 'l' (12) + 'o' (15) for a total sum of 52. The program\n",
    "should then display the calculated sum as the result.\"\"\""
   ]
  },
  {
   "cell_type": "code",
   "execution_count": 66,
   "metadata": {},
   "outputs": [
    {
     "ename": "ValueError",
     "evalue": "invalid literal for int() with base 10: 'hello'",
     "output_type": "error",
     "traceback": [
      "\u001b[1;31m---------------------------------------------------------------------------\u001b[0m",
      "\u001b[1;31mValueError\u001b[0m                                Traceback (most recent call last)",
      "\u001b[1;32mc:\\Users\\rithv\\WORK\\PES\\Python\\ISA1_practicals_programs.ipynb Cell 15\u001b[0m line \u001b[0;36m6\n\u001b[0;32m      <a href='vscode-notebook-cell:/c%3A/Users/rithv/WORK/PES/Python/ISA1_practicals_programs.ipynb#X20sZmlsZQ%3D%3D?line=0'>1</a>\u001b[0m \u001b[39m\"\"\"Write a program that takes a sentence as input from the user and converts each alphabet in a\u001b[39;00m\n\u001b[0;32m      <a href='vscode-notebook-cell:/c%3A/Users/rithv/WORK/PES/Python/ISA1_practicals_programs.ipynb#X20sZmlsZQ%3D%3D?line=1'>2</a>\u001b[0m \u001b[39mgiven sentence to the next letter in the alphabet, while preserving the case of the letters and\u001b[39;00m\n\u001b[0;32m      <a href='vscode-notebook-cell:/c%3A/Users/rithv/WORK/PES/Python/ISA1_practicals_programs.ipynb#X20sZmlsZQ%3D%3D?line=2'>3</a>\u001b[0m \u001b[39mprints it. For example, a is converted to b, b to c, so on and z to a.If the input is “Hello,\u001b[39;00m\n\u001b[0;32m      <a href='vscode-notebook-cell:/c%3A/Users/rithv/WORK/PES/Python/ISA1_practicals_programs.ipynb#X20sZmlsZQ%3D%3D?line=3'>4</a>\u001b[0m \u001b[39mWorld”, the expected output is “Ifmmp, Xpsme”.\"\"\"\u001b[39;00m\n\u001b[0;32m      <a href='vscode-notebook-cell:/c%3A/Users/rithv/WORK/PES/Python/ISA1_practicals_programs.ipynb#X20sZmlsZQ%3D%3D?line=4'>5</a>\u001b[0m s \u001b[39m=\u001b[39m \u001b[39mstr\u001b[39m(\u001b[39minput\u001b[39m(\u001b[39m'\u001b[39m\u001b[39mEnter the string: \u001b[39m\u001b[39m'\u001b[39m))\n\u001b[1;32m----> <a href='vscode-notebook-cell:/c%3A/Users/rithv/WORK/PES/Python/ISA1_practicals_programs.ipynb#X20sZmlsZQ%3D%3D?line=5'>6</a>\u001b[0m \u001b[39mprint\u001b[39m(\u001b[39mint\u001b[39;49m(s)\u001b[39m+\u001b[39m\u001b[39m1\u001b[39m)\n\u001b[0;32m      <a href='vscode-notebook-cell:/c%3A/Users/rithv/WORK/PES/Python/ISA1_practicals_programs.ipynb#X20sZmlsZQ%3D%3D?line=6'>7</a>\u001b[0m \u001b[39mprint\u001b[39m(\u001b[39mtype\u001b[39m(s))\n",
      "\u001b[1;31mValueError\u001b[0m: invalid literal for int() with base 10: 'hello'"
     ]
    }
   ],
   "source": [
    "\"\"\"Write a program that takes a sentence as input from the user and converts each alphabet in a\n",
    "given sentence to the next letter in the alphabet, while preserving the case of the letters and\n",
    "prints it. For example, a is converted to b, b to c, so on and z to a.If the input is “Hello,\n",
    "World”, the expected output is “Ifmmp, Xpsme”.\"\"\"\n",
    "s = str(input('Enter the string: '))\n",
    "print(int(s)+1)\n",
    "print(type(s))"
   ]
  },
  {
   "cell_type": "code",
   "execution_count": 53,
   "metadata": {},
   "outputs": [
    {
     "name": "stdout",
     "output_type": "stream",
     "text": [
      "[6, 8, 10, 12]\n"
     ]
    }
   ],
   "source": [
    "m1 = [[1,2],[3,4]]\n",
    "m2 = [[5,6],[7,8]]\n",
    "m3 = []\n",
    "for i in range(len(m1)):\n",
    "    for j in range(len(m2)):\n",
    "        m3.extend([m1[i][j] + m2[i][j]])        \n",
    "print(m3)"
   ]
  }
 ],
 "metadata": {
  "kernelspec": {
   "display_name": "Python 3 (ipykernel)",
   "language": "python",
   "name": "python3"
  },
  "language_info": {
   "codemirror_mode": {
    "name": "ipython",
    "version": 3
   },
   "file_extension": ".py",
   "mimetype": "text/x-python",
   "name": "python",
   "nbconvert_exporter": "python",
   "pygments_lexer": "ipython3",
   "version": "3.9.2"
  }
 },
 "nbformat": 4,
 "nbformat_minor": 4
}
