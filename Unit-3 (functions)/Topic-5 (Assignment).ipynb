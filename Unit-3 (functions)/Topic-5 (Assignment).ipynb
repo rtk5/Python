{
 "cells": [
  {
   "cell_type": "code",
   "execution_count": 63,
   "metadata": {},
   "outputs": [
    {
     "data": {
      "text/plain": [
       "(95, 'Ram')"
      ]
     },
     "execution_count": 48,
     "metadata": {},
     "output_type": "execute_result"
    }
   ],
   "source": [
    "#Given two lists as arguments (marks and names), write a function to return a tuple containing the highest marks and the \n",
    "# corresponding name. \n",
    "#Input:  marks = [90, 70, 95, 60]    names = ['Raj', 'Sita', 'Ram', 'Ganga']\n",
    "#Output: (95, 'Ram') \n",
    "marks = [90,70,95,60]    \n",
    "names = ['Raj','Sita','Ram','Ganga']\n",
    "def out():\n",
    "    a=max(marks)\n",
    "    k=marks.index(a)\n",
    "    d=marks[k]\n",
    "    e=names[k]    \n",
    "    t=(d,e)\n",
    "    return t\n",
    "out()"
   ]
  },
  {
   "cell_type": "code",
   "execution_count": 64,
   "metadata": {},
   "outputs": [],
   "source": [
    "#Given a dict where values are not unique, write a function to create a new dict where the key is the value and the value is concatenated keys of the original dict\n",
    "# and return it. \n",
    "#Input: {'apple':'fruit', 'cat':'mammal', 'beans':'veg', 'dog':'mammal', 'mango':'fruit'} \n",
    "#Output: {'fruit':['apple', 'mango'], 'mammal':['cat', 'dog'], 'veg':['beans']} \n"
   ]
  },
  {
   "cell_type": "code",
   "execution_count": 80,
   "metadata": {},
   "outputs": [
    {
     "data": {
      "text/plain": [
       "'The number is even and a perfect square'"
      ]
     },
     "execution_count": 80,
     "metadata": {},
     "output_type": "execute_result"
    }
   ],
   "source": [
    "#Write function definitions for the given function headers with null statements to solve the below problems.\n",
    "#def is_square(x): pass \n",
    "#\tdef is_even(x): pass\n",
    "#Check whether a given number is a perfect square.\n",
    "#Find all numbers between 1 and n which are: \n",
    "#both square and even \n",
    "#both even and not square \n",
    "n=int(input(\"Enter number:\"))\n",
    "def f():\n",
    "    for i in range(n):\n",
    "        if n == i*i:\n",
    "            a=\"Is a perfect square\"\n",
    "            if n%2 == 0:\n",
    "                a=\"The number is even and a perfect square\"\n",
    "                break\n",
    "            else:\n",
    "                a=\"The number is odd and a perfect square\"\n",
    "                break\n",
    "            break\n",
    "        else:\n",
    "            a=\"Not a perfect square\"\n",
    "    return a\n",
    "f()          \n",
    "\n",
    "            \n"
   ]
  },
  {
   "cell_type": "code",
   "execution_count": null,
   "metadata": {},
   "outputs": [],
   "source": [
    "#Write a function to code(or encrypt) a given string s1 and write an another function to decode(or decrypt) the coded string.\n",
    " #   * Encryption strategy_1: change a to z, b to y ... z to a, y to b \n",
    " #   * Encryption strategy_2: change a to b, b to c, .... and z to a\n"
   ]
  }
 ],
 "metadata": {
  "kernelspec": {
   "display_name": "Python 3",
   "language": "python",
   "name": "python3"
  },
  "language_info": {
   "codemirror_mode": {
    "name": "ipython",
    "version": 3
   },
   "file_extension": ".py",
   "mimetype": "text/x-python",
   "name": "python",
   "nbconvert_exporter": "python",
   "pygments_lexer": "ipython3",
   "version": "3.9.2"
  }
 },
 "nbformat": 4,
 "nbformat_minor": 2
}
