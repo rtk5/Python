{
 "cells": [
  {
   "cell_type": "code",
   "execution_count": 63,
   "metadata": {},
   "outputs": [
    {
     "data": {
      "text/plain": [
       "(95, 'Ram')"
      ]
     },
     "execution_count": 48,
     "metadata": {},
     "output_type": "execute_result"
    }
   ],
   "source": [
    "#Given two lists as arguments (marks and names), write a function to return a tuple containing the highest marks and the \n",
    "# corresponding name. \n",
    "#Input:  marks = [90, 70, 95, 60]    names = ['Raj', 'Sita', 'Ram', 'Ganga']\n",
    "#Output: (95, 'Ram') \n",
    "marks = [90,70,95,60]    \n",
    "names = ['Raj','Sita','Ram','Ganga']\n",
    "def out():\n",
    "    a=max(marks)\n",
    "    k=marks.index(a)\n",
    "    d=marks[k]\n",
    "    e=names[k]    \n",
    "    t=(d,e)\n",
    "    return t\n",
    "out()"
   ]
  },
  {
   "cell_type": "code",
   "execution_count": 64,
   "metadata": {},
   "outputs": [],
   "source": [
    "#Given a dict where values are not unique, write a function to create a new dict where the key is the value and the value is concatenated keys of the original dict\n",
    "# and return it. \n",
    "#Input: {'apple':'fruit', 'cat':'mammal', 'beans':'veg', 'dog':'mammal', 'mango':'fruit'} \n",
    "#Output: {'fruit':['apple', 'mango'], 'mammal':['cat', 'dog'], 'veg':['beans']} \n",
    "\n",
    "dict = {'apple':'fruit', 'cat':'mammal', 'beans':'veg', 'dog':'mammal', 'mango':'fruit'} \n",
    "l\n",
    "\n"
   ]
  },
  {
   "cell_type": "code",
   "execution_count": 7,
   "metadata": {},
   "outputs": [
    {
     "data": {
      "text/plain": [
       "'Not a perfect square'"
      ]
     },
     "execution_count": 7,
     "metadata": {},
     "output_type": "execute_result"
    }
   ],
   "source": [
    "#Write function definitions for the given function headers with null statements to solve the below problems.\n",
    "#def is_square(x): pass \n",
    "#\tdef is_even(x): pass\n",
    "#Check whether a given number is a perfect square.\n",
    "#Find all numbers between 1 and n which are: \n",
    "#both square and even \n",
    "#both even and not square \n",
    "n=int(input(\"Enter number:\"))\n",
    "def f():\n",
    "    for i in range(n):\n",
    "        if n == i*i:\n",
    "            a=\"Is a perfect square\"\n",
    "            if n%2 == 0:\n",
    "                a=\"The number is even and a perfect square\"\n",
    "                break\n",
    "            else:\n",
    "                a=\"The number is odd and a perfect square\"\n",
    "                break\n",
    "            break\n",
    "        else:\n",
    "            a=\"Not a perfect square\"\n",
    "    return a\n",
    "f()          \n",
    "\n",
    "            \n"
   ]
  },
  {
   "cell_type": "code",
   "execution_count": 35,
   "metadata": {},
   "outputs": [
    {
     "name": "stdout",
     "output_type": "stream",
     "text": [
      "z "
     ]
    }
   ],
   "source": [
    "#Write a function to code(or encrypt) a given string s1 and write an another function to decode(or decrypt) the coded \n",
    "# string.\n",
    " #   * Encryption strategy_1: change a to z, b to y ... z to a, y to b \n",
    " #   * Encryption strategy_2: change a to b, b to c, .... and z to a\n"
   ]
  },
  {
   "cell_type": "code",
   "execution_count": 9,
   "metadata": {},
   "outputs": [
    {
     "name": "stdout",
     "output_type": "stream",
     "text": [
      "[1, 0, 0]\n",
      "[0, 1, 0]\n",
      "[0, 0, 1]\n"
     ]
    }
   ],
   "source": [
    "#5)Display\n",
    "#Identity matrix for a given matrix of order n.\n",
    "#Triangular matrix (both lower and upper) for a given matrix.\n",
    "\n",
    "n=int(input(\"Enter order:\"))\n",
    "'''\n",
    "for i in range(0,n):\n",
    "    for j in range(0,n):\n",
    "        if i==j:\n",
    "            print(\"1\",sep=\" \",end=\" \")\n",
    "        else:\n",
    "           print(\"0\",sep=\" \",end=\" \")\n",
    "    print()\n",
    "'''    \n",
    "def identity_matrix(n):\n",
    "    identity = []\n",
    "    for i in range(n):\n",
    "        row = []\n",
    "        for j in range(n):\n",
    "            if i == j:\n",
    "                row.append(1)\n",
    "            else:\n",
    "                row.append(0)\n",
    "        identity.append(row)\n",
    "    return identity\n",
    "\n",
    "result = identity_matrix(n)\n",
    "for row in result:\n",
    "    print(row)\n",
    "\n"
   ]
  },
  {
   "cell_type": "code",
   "execution_count": 10,
   "metadata": {},
   "outputs": [
    {
     "name": "stdout",
     "output_type": "stream",
     "text": [
      "Original String :  The quick Brown Fox\n",
      "No. of Upper case characters :  3\n",
      "No. of Lower case Characters :  13\n"
     ]
    }
   ],
   "source": [
    "#6)Write a function that accepts a string and calculate the number of upper case letters and lower case letters.\n",
    "def string_test(s):\n",
    "    d={\"UPPER_CASE\":0, \"LOWER_CASE\":0}\n",
    "    for c in s:\n",
    "        if c.isupper():\n",
    "           d[\"UPPER_CASE\"]+=1\n",
    "        elif c.islower():\n",
    "           d[\"LOWER_CASE\"]+=1\n",
    "        else:\n",
    "           pass\n",
    "    print (\"Original String : \", s)\n",
    "    print (\"No. of Upper case characters : \", d[\"UPPER_CASE\"])\n",
    "    print (\"No. of Lower case Characters : \", d[\"LOWER_CASE\"])\n",
    "    \n",
    "    \n",
    "string_test('The quick Brown Fox')\n"
   ]
  },
  {
   "cell_type": "code",
   "execution_count": 12,
   "metadata": {},
   "outputs": [
    {
     "name": "stdout",
     "output_type": "stream",
     "text": [
      "dfgh\n"
     ]
    }
   ],
   "source": [
    "#7)Write a function that accepts two strings as input and prints or returns the string with maximum length as the output. \n",
    "#If two strings have the same length, then the function should print both the strings as output.\n",
    "s1=str(input(\"Enter string 1\"))\n",
    "s2=str(input(\"Enter string 2\"))\n",
    "if len(s1)>len(s2):\n",
    "    print(s1)\n",
    "elif len(s2)>len(s1):\n",
    "    print(s2)\n",
    "elif len(s1)==len(s2):\n",
    "    print(s1,s2)\n"
   ]
  },
  {
   "cell_type": "code",
   "execution_count": 1,
   "metadata": {},
   "outputs": [
    {
     "name": "stdout",
     "output_type": "stream",
     "text": [
      "[1, 2, 3, 4, 5]\n"
     ]
    }
   ],
   "source": [
    "#8)Write a Python function that takes a list as an argument and returns a new list with the duplicate values being removed.\n",
    "def remove_duplicates(input_list):\n",
    "    unique_list = list(set(input_list))\n",
    "    return unique_list\n",
    "original_list = [1, 2, 2, 3, 4, 4, 5]\n",
    "result = remove_duplicates(original_list)\n",
    "print(result)\n"
   ]
  },
  {
   "cell_type": "code",
   "execution_count": null,
   "metadata": {},
   "outputs": [],
   "source": [
    "#9)Write a function to achieve the following.Create a dictionary of lists given two lists.\n",
    "#Sample Input:\n",
    "#a = [ 'karnataka', 'tamilnadu', 'karnataka', 'karnataka', 'tamilnad', 'kerala']\n",
    "#b = [ 'mysore', 'chennai', 'hassan', 'shimoga', 'madurai', 'trivandrum']\n",
    "#Sample output:\n",
    "#d = { 'karnataka' : [ 'mysore', 'hassan', 'shimoga' ],\n",
    "#'tamilnadu' : [ 'chennai', 'madurai'],\n",
    "#'kerala' : [ 'trivandrum' ]    }\n"
   ]
  },
  {
   "cell_type": "code",
   "execution_count": 2,
   "metadata": {},
   "outputs": [
    {
     "name": "stdout",
     "output_type": "stream",
     "text": [
      "The GCD of 48 and 18 is: 6\n"
     ]
    }
   ],
   "source": [
    "#10)Write a program to find the GCD (Greatest Common Divisor) of two numbers using recursion.\n",
    "def gcd(a, b):\n",
    "    if b == 0:\n",
    "        return a\n",
    "    else:\n",
    "        return gcd(b, a % b)\n",
    "num1 = 48\n",
    "num2 = 18\n",
    "result = gcd(num1, num2)\n",
    "print(f\"The GCD of {num1} and {num2} is: {result}\")\n",
    "\n"
   ]
  },
  {
   "cell_type": "code",
   "execution_count": null,
   "metadata": {},
   "outputs": [],
   "source": [
    "#11)    Write a function that reverses a string using recursion\n"
   ]
  }
 ],
 "metadata": {
  "kernelspec": {
   "display_name": "Python 3",
   "language": "python",
   "name": "python3"
  },
  "language_info": {
   "codemirror_mode": {
    "name": "ipython",
    "version": 3
   },
   "file_extension": ".py",
   "mimetype": "text/x-python",
   "name": "python",
   "nbconvert_exporter": "python",
   "pygments_lexer": "ipython3",
   "version": "3.9.2"
  }
 },
 "nbformat": 4,
 "nbformat_minor": 2
}
